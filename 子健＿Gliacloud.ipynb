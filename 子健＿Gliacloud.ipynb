{
 "cells": [
  {
   "cell_type": "code",
   "execution_count": 99,
   "metadata": {},
   "outputs": [],
   "source": [
    "import numpy as np\n",
    "import operator"
   ]
  },
  {
   "cell_type": "markdown",
   "metadata": {},
   "source": [
    "# Part 1"
   ]
  },
  {
   "cell_type": "markdown",
   "metadata": {},
   "source": [
    "## Multiples of 3 and 5."
   ]
  },
  {
   "cell_type": "code",
   "execution_count": 100,
   "metadata": {},
   "outputs": [
    {
     "name": "stdout",
     "output_type": "stream",
     "text": [
      "233168\n"
     ]
    }
   ],
   "source": [
    "def multiples(x,limit):\n",
    "    xlist=[]\n",
    "    for i in range(limit):\n",
    "        if i//x>=1 and i%x==0:\n",
    "            xlist.append(i)\n",
    "    return xlist\n",
    "print(sum(multiples(3,1000))+sum(multiples(5,1000))-sum(multiples(15,1000)))"
   ]
  },
  {
   "cell_type": "markdown",
   "metadata": {},
   "source": [
    "## Integration"
   ]
  },
  {
   "cell_type": "code",
   "execution_count": 101,
   "metadata": {},
   "outputs": [
    {
     "name": "stdout",
     "output_type": "stream",
     "text": [
      "358.651\n"
     ]
    }
   ],
   "source": [
    "def anonymous(x):\n",
    "    return x**2 + 1\n",
    "def integrate(fun, start, end):\n",
    "    step = 0.1\n",
    "    intercept = start\n",
    "    area = 0\n",
    "    while intercept < end:\n",
    "        intercept += step\n",
    "        area = area + step*fun(intercept)\n",
    "    return area\n",
    "print(round(integrate(anonymous, 0, 10), 3))"
   ]
  },
  {
   "cell_type": "markdown",
   "metadata": {},
   "source": [
    "## Counting"
   ]
  },
  {
   "cell_type": "code",
   "execution_count": 102,
   "metadata": {},
   "outputs": [],
   "source": [
    "urls = [\n",
    "    \"http://www.google.com/a.txt\",\n",
    "    \"http://www.google.com.tw/a.txt\",\n",
    "    \"http://www.google.com/download/c.jpg\",\n",
    "    \"http://www.google.co.jp/a.txt\",\n",
    "    \"http://www.google.com/b.txt\",\n",
    "    \"https://facebook.com/movie/b.txt\",\n",
    "    \"http://yahoo.com/123/000/c.jpg\",\n",
    "    \"http://gliacloud.com/haha.png\",\n",
    "]"
   ]
  },
  {
   "cell_type": "code",
   "execution_count": 103,
   "metadata": {},
   "outputs": [
    {
     "name": "stdout",
     "output_type": "stream",
     "text": [
      "a.txt 3\n",
      "b.txt 2\n",
      "c.jpg 2\n"
     ]
    }
   ],
   "source": [
    "def transform(URLS):\n",
    "    TextName = []\n",
    "    for Webname in URLS:\n",
    "        a = 0\n",
    "        for i in Webname[::-1]:\n",
    "            a+=1\n",
    "            if i==\"/\":\n",
    "                TextName.append(Webname[-a+1::])\n",
    "                break\n",
    "    return TextName\n",
    "def Count(TextList):\n",
    "    Countdict={}\n",
    "    MySet = set(TextList)\n",
    "    MyText = list(MySet)\n",
    "    for Text in MyText:\n",
    "        Countdict[Text] = TextList.count(Text)\n",
    "    sorted_Countdict = sorted(Countdict.items(), key=operator.itemgetter(1), reverse=True)\n",
    "    return sorted_Countdict\n",
    "Answer = Count(transform(urls))\n",
    "for i in range(3):\n",
    "    print(Answer[i][0], Answer[i][1])"
   ]
  },
  {
   "cell_type": "markdown",
   "metadata": {},
   "source": [
    "# Part 2"
   ]
  },
  {
   "cell_type": "markdown",
   "metadata": {},
   "source": [
    "## (a)"
   ]
  },
  {
   "cell_type": "markdown",
   "metadata": {},
   "source": [
    "Running out of time. I am not really fimilar with 爬蟲 while using Python, but I am confident of myself learning and exceling how to do web-crawler before the internship starts."
   ]
  },
  {
   "cell_type": "markdown",
   "metadata": {},
   "source": [
    "## (b)"
   ]
  },
  {
   "cell_type": "markdown",
   "metadata": {},
   "source": [
    "I haven't tried using Python to construct web-related project.\n",
    "I'm currently self-learning Django."
   ]
  }
 ],
 "metadata": {
  "kernelspec": {
   "display_name": "Python 3",
   "language": "python",
   "name": "python3"
  },
  "language_info": {
   "codemirror_mode": {
    "name": "ipython",
    "version": 3
   },
   "file_extension": ".py",
   "mimetype": "text/x-python",
   "name": "python",
   "nbconvert_exporter": "python",
   "pygments_lexer": "ipython3",
   "version": "3.7.0"
  }
 },
 "nbformat": 4,
 "nbformat_minor": 2
}
